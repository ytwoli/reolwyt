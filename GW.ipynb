{
 "cells": [
  {
   "cell_type": "code",
   "execution_count": 2,
   "id": "28d35bce",
   "metadata": {},
   "outputs": [
    {
     "data": {
      "text/html": [
       "<span class=\"glif-stdout\">Successfully imported Grammar.gf</span>"
      ]
     },
     "metadata": {},
     "output_type": "display_data"
    }
   ],
   "source": [
    "abstract Grammar = {\n",
    "    cat\n",
    "        Name;\n",
    "        WVerb;\n",
    "        S;\n",
    "        HVerb;\n",
    "        BVerb;\n",
    "        Noun;\n",
    "        Color;\n",
    "        Adj;\n",
    "        VP;\n",
    "        Conn;    -- connectives like \"and\", \"or\", ...\n",
    "    \n",
    "    fun\n",
    "        makeVP1 : WVerb -> Noun -> VP;\n",
    "        makeVP2 : HVerb -> Color -> VP;\n",
    "        makeVP3 : BVerb -> Adj -> VP;\n",
    "        makeS : Name -> VP -> S;\n",
    "        negateWV : WVerb -> WVerb;\n",
    "        negateHV : HVerb -> HVerb;\n",
    "        negateBV : BVerb -> BVerb;\n",
    "        -- \"Peter doesn't / isn't\"\n",
    "        \n",
    "        -- \"howl\" -> \"scream\" -> \"howl and scream\"\n",
    "        combineVP : VP -> Conn -> VP -> VP;\n",
    "        combineS : S -> Conn -> S -> S;\n",
    "\n",
    "        and : Conn;\n",
    "        or : Conn;\n",
    "\n",
    "        peter : Name;\n",
    "        mary : Name;\n",
    "        john : Name;\n",
    "        fido : Name;\n",
    "        is : BVerb;\n",
    "        wears : WVerb;\n",
    "        has : HVerb;\n",
    "        male : Adj;\n",
    "        female : Adj;\n",
    "        hat : Noun;\n",
    "        red : Color;\n",
    "        green : Color;\n",
    "        black : Color;\n",
    "        \n",
    "}"
   ]
  },
  {
   "cell_type": "code",
   "execution_count": 3,
   "id": "aa111543",
   "metadata": {},
   "outputs": [
    {
     "data": {
      "text/html": [
       "<span class=\"glif-stdout\">Successfully imported GrammarEng.gf</span>"
      ]
     },
     "metadata": {},
     "output_type": "display_data"
    }
   ],
   "source": [
    "concrete GrammarEng of Grammar = {\n",
    "\n",
    "    lincat\n",
    "        Name = Str;\n",
    "        Noun = Str;\n",
    "        Color = Str;\n",
    "        Adj = Str;\n",
    "        WVerb = {inf : Str; fin : Str};\n",
    "        HVerb = {inf : Str; fin : Str};\n",
    "        BVerb = {inf : Str; fin : Str};\n",
    "        VP = {inf : Str; fin : Str};\n",
    "        Conn = Str;\n",
    "        S = Str;\n",
    "    \n",
    "    lin\n",
    "        peter = \"Peter\";\n",
    "        mary = \"Mary\";\n",
    "        fido = \"Fido\";\n",
    "        john = \"John\";\n",
    "        is = {inf = \"is\"; fin = \"is\"};\n",
    "        wears = {inf = \"wear\"; fin = \"wears\"};\n",
    "        has = {inf = \"have\"; fin = \"has\"};\n",
    "        male = \"male\";\n",
    "        female = \"female\";\n",
    "        hat = \"hat\";\n",
    "        red = \"red hair\";\n",
    "        green = \"green hair\";\n",
    "        black = \"black hair\";\n",
    "        and = \"and\";\n",
    "        or = \"or\";\n",
    "        combineVP v1 c v2 = {fin=v1.fin++c++v2.fin;\n",
    "                inf=v1.inf++c++v2.inf};\n",
    "        combineS s1 c s2 = s1 ++ c ++ s2;\n",
    "        negateWV vp = {fin=\"doesn't\" ++ vp.inf;\n",
    "                       inf= vp.inf ++ \"not\"};\n",
    "        negateHV vp = {fin=\"doesn't\" ++ vp.inf;\n",
    "                       inf= vp.inf ++ \"not\"};\n",
    "        negateBV vp = {fin= vp.inf ++ \"not\";\n",
    "                       inf= vp.inf ++ \"not\"};\n",
    "        \n",
    "        makeVP1 verb chara = {inf = verb.inf ++ chara;\n",
    "                fin=verb.fin ++ chara};\n",
    "        makeVP2 verb chara = {inf = verb.inf ++ chara;\n",
    "                fin=verb.fin ++ chara};\n",
    "        makeVP3 verb chara = {inf = verb.inf ++ chara;\n",
    "                fin=verb.fin ++ chara};\n",
    "        --makeVP2 verb = {fin=verb.fin; inf=verb.inf};\n",
    "\n",
    "        makeS name vp = name ++ vp.fin;\n",
    "}"
   ]
  },
  {
   "cell_type": "code",
   "execution_count": 4,
   "id": "54666ed6",
   "metadata": {},
   "outputs": [
    {
     "data": {
      "application/vnd.jupyter.widget-view+json": {
       "model_id": "463162fa3419489ea66d412f135e3924",
       "version_major": 2,
       "version_minor": 0
      },
      "text/plain": [
       "Dropdown(layout=Layout(width='max-content'), options=('0.0. makeS mary (combineVP (makeVP2 (negateHV has) red)…"
      ]
     },
     "metadata": {},
     "output_type": "display_data"
    },
    {
     "data": {
      "application/vnd.jupyter.widget-view+json": {
       "model_id": "0e19d3998f124d39ba0e685129cefd71",
       "version_major": 2,
       "version_minor": 0
      },
      "text/plain": [
       "Image(value=b'<?xml version=\"1.0\" encoding=\"UTF-8\" standalone=\"no\"?>\\n<!DOCTYPE svg PUBLIC \"-//W3C//DTD SVG 1.…"
      ]
     },
     "metadata": {},
     "output_type": "display_data"
    }
   ],
   "source": [
    "parse \"Mary doesn't have red hair and wears hat and is not male\"|vt"
   ]
  },
  {
   "cell_type": "code",
   "execution_count": 5,
   "id": "918353a0",
   "metadata": {},
   "outputs": [
    {
     "data": {
      "text/html": [
       "<span class=\"glif-stdout\">Successfully imported plnq.mmt</span>"
      ]
     },
     "metadata": {},
     "output_type": "display_data"
    }
   ],
   "source": [
    "theory plnq : ur:?LF =\n",
    "    prop : type ❘ # o ❙\n",
    "    ind : type ❘ # ι ❙\n",
    "\n",
    "    and : o ⟶ o ⟶ o ❘ # 1 ∧ 2 prec 50 ❙\n",
    "    not : o ⟶ o ❘ # ¬ 1 prec 60 ❙\n",
    "    or : o ⟶ o ⟶ o ❘ # 1 ∨ 2 prec 40 ❘ = [x:o] [y:o] ¬ (¬ x ∧ ¬ y) ❙\n",
    "    implies : o ⟶ o ⟶ o ❘ = [x:o] [y:o] ¬x∨y ❘ # 1 ⇒ 2 prec 30 ❙\n",
    "    biimplication : o ⟶ o ⟶ o ❘ = [x:o] [y:o] (x⇒y)∧(y⇒x) ❘ # 1 ⇔ 2 prec 20 ❙\n",
    "❚"
   ]
  },
  {
   "cell_type": "code",
   "execution_count": 56,
   "id": "4e109d4f",
   "metadata": {},
   "outputs": [
    {
     "data": {
      "text/html": [
       "<span class=\"glif-stdout\">Successfully imported people.mmt</span>"
      ]
     },
     "metadata": {},
     "output_type": "display_data"
    }
   ],
   "source": [
    "theory people : ur:?LF =\n",
    "    include ?plnq ❙\n",
    "    peter : ι ❘ # peter' ❙\n",
    "    john : ι ❘ # john' ❙\n",
    "    mary : ι ❘ # mary' ❙\n",
    "    fido : ι ❘ # fido' ❙\n",
    "    is : ι ⟶ ι ⟶ o ❘ # is' ❙\n",
    "    wears : ι ⟶ ι ⟶ o ❘ # wears' ❙\n",
    "    has : ι ⟶ ι ⟶ o ❘ # has' ❙\n",
    "    male : ι ❘ # male' ❙\n",
    "    female : ι ❘ # female' ❙\n",
    "    hat : ι ❘ # hat'❙\n",
    "    red : ι ❘# red'❙\n",
    "    green : ι ❘ #green'❙\n",
    "    black : ι ❘ #black'❙\n",
    "❚"
   ]
  },
  {
   "cell_type": "code",
   "execution_count": 61,
   "id": "95fbbdde",
   "metadata": {},
   "outputs": [
    {
     "data": {
      "text/html": [
       "<span class=\"glif-stdout\">Successfully imported GrammarSemantics.mmt</span>"
      ]
     },
     "metadata": {},
     "output_type": "display_data"
    }
   ],
   "source": [
    "view GrammarSemantics : http://mathhub.info/tmpGLIF/default/Grammar.gf?Grammar -> ?people =\n",
    "    Name = ι ❙\n",
    "    WVerb = ι ⟶ ι ⟶ o ❙\n",
    "    HVerb = ι ⟶ ι ⟶ o ❙\n",
    "    BVerb = ι ⟶ ι ⟶ o ❙\n",
    "    VP = ι ⟶ o ❙\n",
    "    S = o ❙\n",
    "    Conn = o ⟶ o ⟶ o ❙\n",
    "    Noun = ι  ❙\n",
    "    Adj = ι  ❙\n",
    "    Color = ι ❙\n",
    "    \n",
    "\n",
    "    // makeVP : Verb -> N -> VP; ❙\n",
    "    makeVP1 = [tv:ι⟶ι⟶o] [n:ι] [x:ι] (tv n) x❙\n",
    "    makeVP2 = [itv:ι⟶ι⟶o] [n:ι] [x:ι] (itv n) x ❙\n",
    "    makeVP3 = [itv:ι⟶ι⟶o] [n:ι] [x:ι] (itv n) x ❙\n",
    "    \n",
    "    // makeS : Name ⟶ VP ⟶ S ❙\n",
    "    makeS = [name:ι][vp:ι⟶o] vp name ❙\n",
    "    \n",
    "    // combineVP : VP -> Conn -> VP -> VP; ❙\n",
    "    combineVP = [vpa: ι⟶o] [c: o⟶o⟶o] [vpb: ι⟶o]\n",
    "            [x:ι] c (vpa x) (vpb x) ❙\n",
    "    // combineS : S -> Conn -> S -> S; ❙\n",
    "    combineS = [x: o] [c: o ⟶ o ⟶ o] [y: o]\n",
    "                c x y ❙\n",
    "    // negateVP : Verb -> Verb; ❙\n",
    "    negateWV = [v: ι⟶ι⟶o] [x:ι] [y:ι] ¬ (v x y) ❙\n",
    "    negateHV = [v: ι⟶ι⟶o] [x:ι] [y:ι] ¬ (v x y) ❙\n",
    "    negateBV = [v: ι⟶ι⟶o] [x:ι] [y:ι] ¬ (v x y) ❙\n",
    "\n",
    "    and = [x] [y] x ∧ y ❙\n",
    "    or = [x] [y] x ∨ y ❙\n",
    "\n",
    "    peter = peter' ❙\n",
    "    mary = mary' ❙\n",
    "    fido = fido' ❙\n",
    "    is = is' ❙\n",
    "    wears = wears' ❙\n",
    "    has = has' ❙\n",
    "    male = male' ❙\n",
    "    female = female' ❙\n",
    "    hat = hat'❙\n",
    "    red = red'❙\n",
    "    green = green'❙\n",
    "    black = black'❙\n",
    "❚"
   ]
  },
  {
   "cell_type": "code",
   "execution_count": 64,
   "id": "6d669c3f",
   "metadata": {},
   "outputs": [
    {
     "data": {
      "text/html": [
       "<span class=\"glif-stdout\">(is&#x27; male&#x27; peter&#x27;)∧¬(wears&#x27; hat&#x27; peter&#x27;)</span>"
      ]
     },
     "metadata": {},
     "output_type": "display_data"
    }
   ],
   "source": [
    "parse \"Peter is male and doesn't wear hat\" | construct"
   ]
  },
  {
   "cell_type": "code",
   "execution_count": null,
   "id": "d1b49774",
   "metadata": {},
   "outputs": [],
   "source": []
  }
 ],
 "metadata": {
  "kernelspec": {
   "display_name": "GLIF",
   "language": "glif",
   "name": "glif"
  },
  "language_info": {
   "file_extension": ".glif",
   "mimetype": "text/glif",
   "name": "GLIF"
  }
 },
 "nbformat": 4,
 "nbformat_minor": 5
}
